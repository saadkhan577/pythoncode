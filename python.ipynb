{
  "nbformat": 4,
  "nbformat_minor": 0,
  "metadata": {
    "colab": {
      "provenance": [],
      "include_colab_link": true
    },
    "kernelspec": {
      "name": "python3",
      "display_name": "Python 3"
    },
    "language_info": {
      "name": "python"
    }
  },
  "cells": [
    {
      "cell_type": "markdown",
      "metadata": {
        "id": "view-in-github",
        "colab_type": "text"
      },
      "source": [
        "<a href=\"https://colab.research.google.com/github/saadkhan577/pythoncode/blob/main/python.ipynb\" target=\"_parent\"><img src=\"https://colab.research.google.com/assets/colab-badge.svg\" alt=\"Open In Colab\"/></a>"
      ]
    },
    {
      "cell_type": "markdown",
      "source": [
        "[Google Colab](https://colab.research.google.com/) is a hosted Jupyter notebook environment that allows anyone to run Python code via a web-browser. It provides you free computation and data storage that can be utilized by your Python code.\n",
        "\n",
        "You can click the `+Code` button to create a new cell and enter a block of code. To run the code, click the **Run Code** button next to the cell, or press `Shirt+Enter` key."
      ],
      "metadata": {
        "id": "ceEx-y9nSS2w"
      }
    },
    {
      "cell_type": "code",
      "source": [
        "import csv\n",
        "import random\n",
        "import os\n",
        "import datetime\n",
        "\n",
        "# Constants\n",
        "MAX_SEATS = 100\n",
        "BOOKING_FILE = 'bookings.csv'\n",
        "\n",
        "# Utility functions\n",
        "def generate_customer_id():\n",
        "    return str(random.randint(100, 999))\n",
        "\n",
        "def generate_ticket_extension():\n",
        "    return str(random.randint(10000, 99999))\n",
        "\n",
        "def initialize_booking_data():\n",
        "    \"\"\"Load or initialize booking data.\"\"\"\n",
        "    bookings = []\n",
        "    if os.path.exists(BOOKING_FILE):\n",
        "        with open(BOOKING_FILE, mode='r', newline='') as file:\n",
        "            reader = csv.reader(file)\n",
        "            next(reader, None)  # Skip header\n",
        "            for row in reader:\n",
        "                bookings.append(row)\n",
        "    else:\n",
        "        with open(BOOKING_FILE, mode='w', newline='') as file:\n",
        "            writer = csv.writer(file)\n",
        "            writer.writerow(['CustomerID', 'TicketNumber', 'SeatNumber', 'BookingTime', 'Status'])\n",
        "    return bookings\n",
        "\n",
        "def save_bookings(bookings):\n",
        "    \"\"\"Save booking data to a CSV file.\"\"\"\n",
        "    with open(BOOKING_FILE, mode='w', newline='') as file:\n",
        "        writer = csv.writer(file)\n",
        "        writer.writerow(['CustomerID', 'TicketNumber', 'SeatNumber', 'BookingTime', 'Status'])\n",
        "        writer.writerows(bookings)\n",
        "\n",
        "def available_seats(bookings):\n",
        "    return MAX_SEATS - len([b for b in bookings if b[4] == 'Booked'])\n",
        "\n",
        "def generate_ticket_number():\n",
        "    return f\"{generate_customer_id()}-{generate_ticket_extension()}\"\n",
        "\n",
        "# Core functions\n",
        "def book_ticket(bookings):\n",
        "    if available_seats(bookings) <= 0:\n",
        "        print(\"No seats available.\")\n",
        "        return\n",
        "\n",
        "    customer_id = generate_customer_id()\n",
        "    ticket_number = generate_ticket_number()\n",
        "    seat_number = len(bookings) + 1\n",
        "    booking_time = datetime.datetime.now().strftime('%Y-%m-%d %H:%M:%S')\n",
        "\n",
        "    bookings.append([customer_id, ticket_number, seat_number, booking_time, 'Booked'])\n",
        "    print(f\"Ticket booked successfully. Ticket Number: {ticket_number}, Seat Number: {seat_number}\")\n",
        "    print(f\"Remaining seats: {available_seats(bookings)}\")\n",
        "\n",
        "def cancel_ticket(bookings):\n",
        "    ticket_number = input(\"Enter the ticket number to cancel (format: xxx-xxxxx): \")\n",
        "    for booking in bookings:\n",
        "        if booking[1] == ticket_number and booking[4] == 'Booked':\n",
        "            booking[4] = 'Cancelled'\n",
        "            booking[3] = datetime.datetime.now().strftime('%Y-%m-%d %H:%M:%S')\n",
        "            print(f\"Ticket {ticket_number} has been cancelled.\")\n",
        "            print(f\"Remaining seats: {available_seats(bookings)}\")\n",
        "            return\n",
        "    print(\"Ticket not found or already cancelled.\")\n",
        "\n",
        "def view_seats(bookings):\n",
        "    print(f\"Available seats: {available_seats(bookings)}\")\n",
        "\n",
        "def view_ticket_info(bookings):\n",
        "    ticket_number = input(\"Enter ticket number to view details (format: xxx-xxxxx): \")\n",
        "    for booking in bookings:\n",
        "        if booking[1] == ticket_number:\n",
        "            print(f\"Customer ID: {booking[0]}, Ticket Number: {booking[1]}, Seat Number: {booking[2]}, Status: {booking[4]}\")\n",
        "            return\n",
        "    print(\"Ticket not found.\")\n",
        "\n",
        "def update_booking(bookings):\n",
        "    ticket_number = input(\"Enter ticket number to update (format: xxx-xxxxx): \")\n",
        "    for booking in bookings:\n",
        "        if booking[1] == ticket_number:\n",
        "            booking[4] = 'Booked'\n",
        "            booking[3] = datetime.datetime.now().strftime('%Y-%m-%d %H:%M:%S')\n",
        "            print(f\"Booking for ticket {ticket_number} has been updated.\")\n",
        "            return\n",
        "    print(\"Ticket not found or invalid.\")\n",
        "\n",
        "def print_window_seats(bookings):\n",
        "    print(\"Window seats:\")\n",
        "    for booking in bookings:\n",
        "        if booking[4] == 'Booked' and (int(booking[2]) % 3 == 1):\n",
        "            print(f\"Ticket Number: {booking[1]}, Seat Number: {booking[2]}\")\n",
        "\n",
        "# Main menu function\n",
        "def main_menu():\n",
        "    bookings = initialize_booking_data()\n",
        "\n",
        "    while True:\n",
        "        print(\"\\n--- Airline Ticket Reservation System ---\")\n",
        "        print(\"1. Book a ticket\")\n",
        "        print(\"2. Cancel a ticket\")\n",
        "        print(\"3. View available seats\")\n",
        "        print(\"4. Update a booking\")\n",
        "        print(\"5. View ticket information\")\n",
        "        print(\"6. Print window seat tickets\")\n",
        "        print(\"7. Quit\")\n",
        "\n",
        "        choice = input(\"Enter your choice: \")\n",
        "\n",
        "        if choice == '1':\n",
        "            book_ticket(bookings)\n",
        "        elif choice == '2':\n",
        "            cancel_ticket(bookings)\n",
        "        elif choice == '3':\n",
        "            view_seats(bookings)\n",
        "        elif choice == '4':\n",
        "            update_booking(bookings)\n",
        "        elif choice == '5':\n",
        "            view_ticket_info(bookings)\n",
        "        elif choice == '6':\n",
        "            print_window_seats(bookings)\n",
        "        elif choice == '7':\n",
        "            save_bookings(bookings)\n",
        "            print(\"Goodbye!\")\n",
        "            break\n",
        "        else:\n",
        "            print(\"Invalid choice. Please try again.\")\n",
        "\n",
        "if __name__ == '__main__':\n",
        "    main_menu()\n"
      ],
      "metadata": {
        "id": "3TRbxcByIXqY"
      },
      "execution_count": null,
      "outputs": []
    },
    {
      "cell_type": "code",
      "execution_count": null,
      "metadata": {
        "id": "f_43xbJERpr5"
      },
      "outputs": [],
      "source": [
        "print('Hello World')"
      ]
    },
    {
      "cell_type": "markdown",
      "source": [
        "### Package Management"
      ],
      "metadata": {
        "id": "xjhxNMwMWnVO"
      }
    },
    {
      "cell_type": "markdown",
      "source": [
        "Colab comes pre-installed with many Python packages. You can use a package by simply importing it."
      ],
      "metadata": {
        "id": "bWFPnmZiTjnU"
      }
    },
    {
      "cell_type": "code",
      "source": [
        "import pandas as pd\n",
        "import geopandas as gpd"
      ],
      "metadata": {
        "id": "aGpVqvmtTgKe"
      },
      "execution_count": null,
      "outputs": []
    },
    {
      "cell_type": "markdown",
      "source": [
        "Each Colab notebook instance is run on a Ubuntu Linux machine in the cloud. If you want to install any packages, you can run a command by prefixing the command with a `!`. For example, you can install third-party packages via `pip` using the command `!pip`.\n",
        "\n",
        "> Tip: If you want to list all pre-install packages and their versions in your Colab environemnt, you can run `!pip list -v`."
      ],
      "metadata": {
        "id": "Y3VsOFzhT0Do"
      }
    },
    {
      "cell_type": "code",
      "source": [
        "!pip install rioxarray"
      ],
      "metadata": {
        "id": "MW-ZJkPlTzI2"
      },
      "execution_count": null,
      "outputs": []
    },
    {
      "cell_type": "code",
      "source": [
        "import rioxarray"
      ],
      "metadata": {
        "id": "mCD2S6v2Txsh"
      },
      "execution_count": null,
      "outputs": []
    },
    {
      "cell_type": "markdown",
      "source": [
        "### Data Management"
      ],
      "metadata": {
        "id": "RZdVNzPaWqN-"
      }
    },
    {
      "cell_type": "markdown",
      "source": [
        "Colab provides 100GB of disk space along with your notebook. This can be used to store your data, intermediate outputs and results.\n",
        "\n",
        "The code below will create 2 folders named 'data' and 'output' in your local filesystem."
      ],
      "metadata": {
        "id": "XqhJNBE1WwQP"
      }
    },
    {
      "cell_type": "code",
      "source": [
        "import os\n",
        "\n",
        "data_folder = 'data'\n",
        "output_folder = 'output'\n",
        "\n",
        "if not os.path.exists(data_folder):\n",
        "    os.mkdir(data_folder)\n",
        "if not os.path.exists(output_folder):\n",
        "    os.mkdir(output_folder)"
      ],
      "metadata": {
        "id": "olSHRvf1WvkW"
      },
      "execution_count": null,
      "outputs": []
    },
    {
      "cell_type": "markdown",
      "source": [
        "We can download some data from the internet and store it in the Colab environment. Below is a helper function to download a file from a URL."
      ],
      "metadata": {
        "id": "fLh0NSLgXXdj"
      }
    },
    {
      "cell_type": "code",
      "source": [
        "import requests\n",
        "\n",
        "def download(url):\n",
        "    filename = os.path.join(data_folder, os.path.basename(url))\n",
        "    if not os.path.exists(filename):\n",
        "      with requests.get(url, stream=True, allow_redirects=True) as r:\n",
        "          with open(filename, 'wb') as f:\n",
        "              for chunk in r.iter_content(chunk_size=8192):\n",
        "                  f.write(chunk)\n",
        "      print('Downloaded', filename)"
      ],
      "metadata": {
        "id": "mj-PAdjzWsHv"
      },
      "execution_count": null,
      "outputs": []
    },
    {
      "cell_type": "markdown",
      "source": [
        "Let's download the [Populated Places](https://www.naturalearthdata.com/downloads/10m-cultural-vectors/) dataset from Natural Earth."
      ],
      "metadata": {
        "id": "cwqVMovqXr-k"
      }
    },
    {
      "cell_type": "code",
      "source": [
        "download('https://naciscdn.org/naturalearth/10m/cultural/' +\n",
        "         'ne_10m_populated_places_simple.zip')"
      ],
      "metadata": {
        "id": "m-Zh7-XZXqSr"
      },
      "execution_count": null,
      "outputs": []
    },
    {
      "cell_type": "markdown",
      "source": [
        "The file is now in our local filesystem. We can construct the path to the data folder and read it using `geopandas`"
      ],
      "metadata": {
        "id": "yUdH_Hm5Y45w"
      }
    },
    {
      "cell_type": "code",
      "source": [
        "file = 'ne_10m_populated_places_simple.zip'\n",
        "filepath = os.path.join(data_folder, file)\n",
        "places = gpd.read_file(filepath)"
      ],
      "metadata": {
        "id": "VCYS8SlSYCkk"
      },
      "execution_count": null,
      "outputs": []
    },
    {
      "cell_type": "markdown",
      "source": [
        "Let's do some data processing and write the results to a new file. The code below will filter all places which are also country capitals."
      ],
      "metadata": {
        "id": "3kaEfDKPZKxo"
      }
    },
    {
      "cell_type": "code",
      "source": [
        "capitals = places[places['adm0cap'] == 1]\n",
        "capitals"
      ],
      "metadata": {
        "id": "TN71a2vPYjma"
      },
      "execution_count": null,
      "outputs": []
    },
    {
      "cell_type": "markdown",
      "source": [
        "We can write the results to the disk as a GeoPackage file."
      ],
      "metadata": {
        "id": "aF3glHG_ZY4K"
      }
    },
    {
      "cell_type": "code",
      "source": [
        "output_file = 'capitals.gpkg'\n",
        "output_path = os.path.join(output_folder, output_file)\n",
        "capitals.to_file(driver='GPKG', filename=output_path)"
      ],
      "metadata": {
        "id": "60Wc8XblY1XY"
      },
      "execution_count": null,
      "outputs": []
    },
    {
      "cell_type": "markdown",
      "source": [
        "You can open the **Files** tab from the left-hand panel in Colab and browse to the `output` folder. Locate the `capitals.gpkg` file and click the **⋮** button and select *Download* to download the file locally."
      ],
      "metadata": {
        "id": "jVEALmycZrpM"
      }
    }
  ]
}